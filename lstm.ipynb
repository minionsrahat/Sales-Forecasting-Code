{
 "cells": [
  {
   "cell_type": "code",
   "execution_count": 1,
   "metadata": {},
   "outputs": [
    {
     "name": "stderr",
     "output_type": "stream",
     "text": [
      "C:\\ProgramData\\Anaconda3\\lib\\site-packages\\tensorflow\\python\\framework\\dtypes.py:516: FutureWarning: Passing (type, 1) or '1type' as a synonym of type is deprecated; in a future version of numpy, it will be understood as (type, (1,)) / '(1,)type'.\n",
      "  _np_qint8 = np.dtype([(\"qint8\", np.int8, 1)])\n",
      "C:\\ProgramData\\Anaconda3\\lib\\site-packages\\tensorflow\\python\\framework\\dtypes.py:517: FutureWarning: Passing (type, 1) or '1type' as a synonym of type is deprecated; in a future version of numpy, it will be understood as (type, (1,)) / '(1,)type'.\n",
      "  _np_quint8 = np.dtype([(\"quint8\", np.uint8, 1)])\n",
      "C:\\ProgramData\\Anaconda3\\lib\\site-packages\\tensorflow\\python\\framework\\dtypes.py:518: FutureWarning: Passing (type, 1) or '1type' as a synonym of type is deprecated; in a future version of numpy, it will be understood as (type, (1,)) / '(1,)type'.\n",
      "  _np_qint16 = np.dtype([(\"qint16\", np.int16, 1)])\n",
      "C:\\ProgramData\\Anaconda3\\lib\\site-packages\\tensorflow\\python\\framework\\dtypes.py:519: FutureWarning: Passing (type, 1) or '1type' as a synonym of type is deprecated; in a future version of numpy, it will be understood as (type, (1,)) / '(1,)type'.\n",
      "  _np_quint16 = np.dtype([(\"quint16\", np.uint16, 1)])\n",
      "C:\\ProgramData\\Anaconda3\\lib\\site-packages\\tensorflow\\python\\framework\\dtypes.py:520: FutureWarning: Passing (type, 1) or '1type' as a synonym of type is deprecated; in a future version of numpy, it will be understood as (type, (1,)) / '(1,)type'.\n",
      "  _np_qint32 = np.dtype([(\"qint32\", np.int32, 1)])\n",
      "C:\\ProgramData\\Anaconda3\\lib\\site-packages\\tensorflow\\python\\framework\\dtypes.py:525: FutureWarning: Passing (type, 1) or '1type' as a synonym of type is deprecated; in a future version of numpy, it will be understood as (type, (1,)) / '(1,)type'.\n",
      "  np_resource = np.dtype([(\"resource\", np.ubyte, 1)])\n",
      "C:\\ProgramData\\Anaconda3\\lib\\site-packages\\tensorboard\\compat\\tensorflow_stub\\dtypes.py:541: FutureWarning: Passing (type, 1) or '1type' as a synonym of type is deprecated; in a future version of numpy, it will be understood as (type, (1,)) / '(1,)type'.\n",
      "  _np_qint8 = np.dtype([(\"qint8\", np.int8, 1)])\n",
      "C:\\ProgramData\\Anaconda3\\lib\\site-packages\\tensorboard\\compat\\tensorflow_stub\\dtypes.py:542: FutureWarning: Passing (type, 1) or '1type' as a synonym of type is deprecated; in a future version of numpy, it will be understood as (type, (1,)) / '(1,)type'.\n",
      "  _np_quint8 = np.dtype([(\"quint8\", np.uint8, 1)])\n",
      "C:\\ProgramData\\Anaconda3\\lib\\site-packages\\tensorboard\\compat\\tensorflow_stub\\dtypes.py:543: FutureWarning: Passing (type, 1) or '1type' as a synonym of type is deprecated; in a future version of numpy, it will be understood as (type, (1,)) / '(1,)type'.\n",
      "  _np_qint16 = np.dtype([(\"qint16\", np.int16, 1)])\n",
      "C:\\ProgramData\\Anaconda3\\lib\\site-packages\\tensorboard\\compat\\tensorflow_stub\\dtypes.py:544: FutureWarning: Passing (type, 1) or '1type' as a synonym of type is deprecated; in a future version of numpy, it will be understood as (type, (1,)) / '(1,)type'.\n",
      "  _np_quint16 = np.dtype([(\"quint16\", np.uint16, 1)])\n",
      "C:\\ProgramData\\Anaconda3\\lib\\site-packages\\tensorboard\\compat\\tensorflow_stub\\dtypes.py:545: FutureWarning: Passing (type, 1) or '1type' as a synonym of type is deprecated; in a future version of numpy, it will be understood as (type, (1,)) / '(1,)type'.\n",
      "  _np_qint32 = np.dtype([(\"qint32\", np.int32, 1)])\n",
      "C:\\ProgramData\\Anaconda3\\lib\\site-packages\\tensorboard\\compat\\tensorflow_stub\\dtypes.py:550: FutureWarning: Passing (type, 1) or '1type' as a synonym of type is deprecated; in a future version of numpy, it will be understood as (type, (1,)) / '(1,)type'.\n",
      "  np_resource = np.dtype([(\"resource\", np.ubyte, 1)])\n"
     ]
    }
   ],
   "source": [
    "import numpy as np\n",
    "import tensorflow as tf\n",
    "from tensorflow import keras\n",
    "import pandas as pd\n",
    "from datetime import datetime\n",
    "import seaborn as sns\n",
    "from pylab import rcParams\n",
    "import matplotlib.pyplot as plt\n",
    "from matplotlib import rc\n",
    "import warnings\n",
    "warnings.filterwarnings(\"ignore\")\n",
    "%matplotlib inline\n",
    "%config InlineBackend.figure_format='retina'\n",
    "\n",
    "sns.set(style='whitegrid', palette='muted', font_scale=1.5)\n",
    "\n",
    "rcParams['figure.figsize'] = 16, 10"
   ]
  },
  {
   "cell_type": "code",
   "execution_count": 2,
   "metadata": {},
   "outputs": [],
   "source": [
    "df= pd.read_csv(\"C:/Users/RAHAT/Downloads/Untitled Folder/Sales_f/data/Splited Data s-1 to s-5/STEST/S_1__I_582865.csv\",parse_dates=['date'],index_col='date')\n",
    "\n",
    "#convert date field from string to datetime\n",
    "#df['date'] = pd.to_datetime(df['date'])"
   ]
  },
  {
   "cell_type": "code",
   "execution_count": 3,
   "metadata": {},
   "outputs": [
    {
     "name": "stdout",
     "output_type": "stream",
     "text": [
      "210 90\n"
     ]
    }
   ],
   "source": [
    "df.drop(['id','store_nbr','item_nbr','onpromotion'], axis=1,inplace=True)\n",
    "df=df[0:300]\n",
    "train_size = int(len(df) * 0.7)\n",
    "test_size = len(df) - train_size\n",
    "train, test = df.iloc[0:train_size], df.iloc[train_size:len(df)]\n",
    "print(len(train), len(test))"
   ]
  },
  {
   "cell_type": "code",
   "execution_count": 4,
   "metadata": {},
   "outputs": [],
   "source": [
    "def create_dataset(X, y, time_steps=1):\n",
    "    Xs, ys = [], []\n",
    "    for i in range(len(X) - time_steps):\n",
    "        v = X.iloc[i:(i + time_steps)].values\n",
    "        Xs.append(v)\n",
    "        ys.append(y.iloc[i + time_steps])\n",
    "    return np.array(Xs), np.array(ys)"
   ]
  },
  {
   "cell_type": "code",
   "execution_count": 5,
   "metadata": {},
   "outputs": [
    {
     "name": "stdout",
     "output_type": "stream",
     "text": [
      "(190, 20, 1) (70,)\n"
     ]
    }
   ],
   "source": [
    "time_steps = 20\n",
    "\n",
    "# reshape to [samples, time_steps, n_features]\n",
    "\n",
    "X_train, y_train = create_dataset(train, train.unit_sales, time_steps)\n",
    "X_test, y_test = create_dataset(test, test.unit_sales, time_steps)\n",
    "\n",
    "print(X_train.shape, y_test.shape)"
   ]
  },
  {
   "cell_type": "code",
   "execution_count": 6,
   "metadata": {},
   "outputs": [
    {
     "name": "stdout",
     "output_type": "stream",
     "text": [
      "WARNING:tensorflow:From C:\\ProgramData\\Anaconda3\\lib\\site-packages\\tensorflow\\python\\ops\\init_ops.py:1251: calling VarianceScaling.__init__ (from tensorflow.python.ops.init_ops) with dtype is deprecated and will be removed in a future version.\n",
      "Instructions for updating:\n",
      "Call initializer instance with the dtype argument instead of passing it to the constructor\n"
     ]
    }
   ],
   "source": [
    "model = keras.Sequential()\n",
    "model.add(keras.layers.LSTM(\n",
    "  units=128,\n",
    "  input_shape=(X_train.shape[1], X_train.shape[2])\n",
    "))\n",
    "model.add(keras.layers.Dense(units=1))\n",
    "model.compile(\n",
    "  loss='mean_squared_error',\n",
    "  optimizer=keras.optimizers.Adam(0.001)\n",
    ")"
   ]
  },
  {
   "cell_type": "code",
   "execution_count": 7,
   "metadata": {},
   "outputs": [
    {
     "name": "stdout",
     "output_type": "stream",
     "text": [
      "Train on 171 samples, validate on 19 samples\n",
      "WARNING:tensorflow:From C:\\ProgramData\\Anaconda3\\lib\\site-packages\\tensorflow\\python\\ops\\math_grad.py:1250: add_dispatch_support.<locals>.wrapper (from tensorflow.python.ops.array_ops) is deprecated and will be removed in a future version.\n",
      "Instructions for updating:\n",
      "Use tf.where in 2.0, which has the same broadcast rule as np.where\n",
      "Epoch 1/70\n",
      "171/171 [==============================] - 2s 9ms/sample - loss: 153.1093 - val_loss: 79.8527\n",
      "Epoch 2/70\n",
      "171/171 [==============================] - 0s 3ms/sample - loss: 69.5580 - val_loss: 28.6561\n",
      "Epoch 3/70\n",
      "171/171 [==============================] - 0s 3ms/sample - loss: 32.0959 - val_loss: 14.1904\n",
      "Epoch 4/70\n",
      "171/171 [==============================] - 0s 2ms/sample - loss: 22.9787 - val_loss: 14.4662\n",
      "Epoch 5/70\n",
      "171/171 [==============================] - 0s 3ms/sample - loss: 22.7490 - val_loss: 14.8340\n",
      "Epoch 6/70\n",
      "171/171 [==============================] - 0s 2ms/sample - loss: 22.5975 - val_loss: 14.2499\n",
      "Epoch 7/70\n",
      "171/171 [==============================] - 0s 3ms/sample - loss: 22.4459 - val_loss: 13.9631\n",
      "Epoch 8/70\n",
      "171/171 [==============================] - 0s 3ms/sample - loss: 22.4435 - val_loss: 13.9255\n",
      "Epoch 9/70\n",
      "171/171 [==============================] - 0s 2ms/sample - loss: 22.4473 - val_loss: 13.9777\n",
      "Epoch 10/70\n",
      "171/171 [==============================] - 1s 4ms/sample - loss: 22.4469 - val_loss: 14.0219\n",
      "Epoch 11/70\n",
      "171/171 [==============================] - 1s 3ms/sample - loss: 22.4460 - val_loss: 14.0269\n",
      "Epoch 12/70\n",
      "171/171 [==============================] - 0s 3ms/sample - loss: 22.4442 - val_loss: 14.0149\n",
      "Epoch 13/70\n",
      "171/171 [==============================] - 0s 3ms/sample - loss: 22.4428 - val_loss: 14.0068\n",
      "Epoch 14/70\n",
      "171/171 [==============================] - 0s 3ms/sample - loss: 22.4425 - val_loss: 14.0054\n",
      "Epoch 15/70\n",
      "171/171 [==============================] - 0s 2ms/sample - loss: 22.4419 - val_loss: 14.0032\n",
      "Epoch 16/70\n",
      "171/171 [==============================] - 0s 3ms/sample - loss: 22.4417 - val_loss: 14.0011\n",
      "Epoch 17/70\n",
      "171/171 [==============================] - 0s 2ms/sample - loss: 22.4410 - val_loss: 13.9993\n",
      "Epoch 18/70\n",
      "171/171 [==============================] - 0s 2ms/sample - loss: 22.4410 - val_loss: 13.9972\n",
      "Epoch 19/70\n",
      "171/171 [==============================] - 0s 2ms/sample - loss: 22.4404 - val_loss: 13.9956\n",
      "Epoch 20/70\n",
      "171/171 [==============================] - 0s 2ms/sample - loss: 22.4401 - val_loss: 13.9924\n",
      "Epoch 21/70\n",
      "171/171 [==============================] - 0s 2ms/sample - loss: 22.4395 - val_loss: 13.9882\n",
      "Epoch 22/70\n",
      "171/171 [==============================] - 0s 2ms/sample - loss: 22.4389 - val_loss: 13.9843\n",
      "Epoch 23/70\n",
      "171/171 [==============================] - 0s 2ms/sample - loss: 22.4390 - val_loss: 13.9857\n",
      "Epoch 24/70\n",
      "171/171 [==============================] - 0s 2ms/sample - loss: 22.4382 - val_loss: 13.9810\n",
      "Epoch 25/70\n",
      "171/171 [==============================] - 0s 2ms/sample - loss: 22.4382 - val_loss: 13.9807\n",
      "Epoch 26/70\n",
      "171/171 [==============================] - 0s 2ms/sample - loss: 22.4376 - val_loss: 13.9780\n",
      "Epoch 27/70\n",
      "171/171 [==============================] - 0s 2ms/sample - loss: 22.4370 - val_loss: 13.9744\n",
      "Epoch 28/70\n",
      "171/171 [==============================] - 0s 2ms/sample - loss: 22.4364 - val_loss: 13.9727\n",
      "Epoch 29/70\n",
      "171/171 [==============================] - 0s 2ms/sample - loss: 22.4366 - val_loss: 13.9749\n",
      "Epoch 30/70\n",
      "171/171 [==============================] - 0s 2ms/sample - loss: 22.4358 - val_loss: 13.9696\n",
      "Epoch 31/70\n",
      "171/171 [==============================] - 0s 2ms/sample - loss: 22.4349 - val_loss: 13.9653\n",
      "Epoch 32/70\n",
      "171/171 [==============================] - 0s 2ms/sample - loss: 22.4349 - val_loss: 13.9638\n",
      "Epoch 33/70\n",
      "171/171 [==============================] - ETA: 0s - loss: 23.25 - 0s 2ms/sample - loss: 22.4343 - val_loss: 13.9634\n",
      "Epoch 34/70\n",
      "171/171 [==============================] - 0s 2ms/sample - loss: 22.4337 - val_loss: 13.9598\n",
      "Epoch 35/70\n",
      "171/171 [==============================] - 0s 2ms/sample - loss: 22.4334 - val_loss: 13.9595\n",
      "Epoch 36/70\n",
      "171/171 [==============================] - 0s 2ms/sample - loss: 22.4330 - val_loss: 13.9578\n",
      "Epoch 37/70\n",
      "171/171 [==============================] - 0s 3ms/sample - loss: 22.4323 - val_loss: 13.9556\n",
      "Epoch 38/70\n",
      "171/171 [==============================] - 0s 2ms/sample - loss: 22.4318 - val_loss: 13.9508\n",
      "Epoch 39/70\n",
      "171/171 [==============================] - 0s 2ms/sample - loss: 22.4314 - val_loss: 13.9510\n",
      "Epoch 40/70\n",
      "171/171 [==============================] - 0s 2ms/sample - loss: 22.4310 - val_loss: 13.9496\n",
      "Epoch 41/70\n",
      "171/171 [==============================] - 0s 2ms/sample - loss: 22.4298 - val_loss: 13.9472\n",
      "Epoch 42/70\n",
      "171/171 [==============================] - 0s 2ms/sample - loss: 22.4297 - val_loss: 13.9473\n",
      "Epoch 43/70\n",
      "171/171 [==============================] - 0s 2ms/sample - loss: 22.4291 - val_loss: 13.9469\n",
      "Epoch 44/70\n",
      "171/171 [==============================] - 0s 2ms/sample - loss: 22.4282 - val_loss: 13.9438\n",
      "Epoch 45/70\n",
      "171/171 [==============================] - 0s 2ms/sample - loss: 22.4268 - val_loss: 13.9421\n",
      "Epoch 46/70\n",
      "171/171 [==============================] - 0s 2ms/sample - loss: 22.4267 - val_loss: 13.9432\n",
      "Epoch 47/70\n",
      "171/171 [==============================] - 0s 2ms/sample - loss: 22.4258 - val_loss: 13.9406\n",
      "Epoch 48/70\n",
      "171/171 [==============================] - 0s 2ms/sample - loss: 22.4248 - val_loss: 13.9351\n",
      "Epoch 49/70\n",
      "171/171 [==============================] - 0s 2ms/sample - loss: 22.4239 - val_loss: 13.9349\n",
      "Epoch 50/70\n",
      "171/171 [==============================] - 0s 2ms/sample - loss: 22.4240 - val_loss: 13.9357\n",
      "Epoch 51/70\n",
      "171/171 [==============================] - 0s 2ms/sample - loss: 22.4222 - val_loss: 13.9314\n",
      "Epoch 52/70\n",
      "171/171 [==============================] - 0s 2ms/sample - loss: 22.4222 - val_loss: 13.9288\n",
      "Epoch 53/70\n",
      "171/171 [==============================] - 0s 3ms/sample - loss: 22.4211 - val_loss: 13.9273\n",
      "Epoch 54/70\n",
      "171/171 [==============================] - 0s 2ms/sample - loss: 22.4200 - val_loss: 13.9247\n",
      "Epoch 55/70\n",
      "171/171 [==============================] - 0s 2ms/sample - loss: 22.4199 - val_loss: 13.9271\n",
      "Epoch 56/70\n",
      "171/171 [==============================] - 0s 2ms/sample - loss: 22.4185 - val_loss: 13.9232\n",
      "Epoch 57/70\n",
      "171/171 [==============================] - 0s 2ms/sample - loss: 22.4166 - val_loss: 13.9180\n",
      "Epoch 58/70\n",
      "171/171 [==============================] - 0s 2ms/sample - loss: 22.4160 - val_loss: 13.9164\n",
      "Epoch 59/70\n",
      "171/171 [==============================] - 0s 2ms/sample - loss: 22.4146 - val_loss: 13.9147\n",
      "Epoch 60/70\n",
      "171/171 [==============================] - 0s 2ms/sample - loss: 22.4133 - val_loss: 13.9133\n",
      "Epoch 61/70\n",
      "171/171 [==============================] - 0s 2ms/sample - loss: 22.4115 - val_loss: 13.9117\n",
      "Epoch 62/70\n",
      "171/171 [==============================] - 0s 2ms/sample - loss: 22.4088 - val_loss: 13.9060\n",
      "Epoch 63/70\n",
      "171/171 [==============================] - 0s 2ms/sample - loss: 22.4062 - val_loss: 13.9062\n",
      "Epoch 64/70\n",
      "171/171 [==============================] - 0s 2ms/sample - loss: 22.4044 - val_loss: 13.9006\n",
      "Epoch 65/70\n",
      "171/171 [==============================] - 0s 2ms/sample - loss: 22.4028 - val_loss: 13.8964\n",
      "Epoch 66/70\n",
      "171/171 [==============================] - 0s 2ms/sample - loss: 22.4012 - val_loss: 13.8933\n",
      "Epoch 67/70\n",
      "171/171 [==============================] - 0s 2ms/sample - loss: 22.3995 - val_loss: 13.8952\n",
      "Epoch 68/70\n",
      "171/171 [==============================] - 0s 2ms/sample - loss: 22.3983 - val_loss: 13.8912\n",
      "Epoch 69/70\n",
      "171/171 [==============================] - 0s 2ms/sample - loss: 22.3955 - val_loss: 13.8868\n",
      "Epoch 70/70\n",
      "171/171 [==============================] - 0s 2ms/sample - loss: 22.3943 - val_loss: 13.8856\n"
     ]
    }
   ],
   "source": [
    "history = model.fit(\n",
    "    X_train, y_train,\n",
    "    epochs=70,\n",
    "    batch_size=16,\n",
    "    validation_split=0.1,\n",
    "    verbose=1,\n",
    "    shuffle=False\n",
    ")"
   ]
  },
  {
   "cell_type": "code",
   "execution_count": 8,
   "metadata": {},
   "outputs": [],
   "source": [
    "y_pred = model.predict(X_test)"
   ]
  },
  {
   "cell_type": "code",
   "execution_count": 9,
   "metadata": {},
   "outputs": [
    {
     "data": {
      "text/plain": [
       "22.826047683344928"
      ]
     },
     "execution_count": 9,
     "metadata": {},
     "output_type": "execute_result"
    }
   ],
   "source": [
    "from sklearn.metrics import mean_squared_error \n",
    "mean_squared_error(y_test,y_pred)"
   ]
  }
 ],
 "metadata": {
  "kernelspec": {
   "display_name": "Python 3",
   "language": "python",
   "name": "python3"
  },
  "language_info": {
   "codemirror_mode": {
    "name": "ipython",
    "version": 3
   },
   "file_extension": ".py",
   "mimetype": "text/x-python",
   "name": "python",
   "nbconvert_exporter": "python",
   "pygments_lexer": "ipython3",
   "version": "3.7.6"
  }
 },
 "nbformat": 4,
 "nbformat_minor": 4
}
