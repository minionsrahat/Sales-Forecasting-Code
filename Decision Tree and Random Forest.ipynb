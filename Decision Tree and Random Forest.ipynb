{
 "cells": [
  {
   "cell_type": "markdown",
   "metadata": {},
   "source": [
    "# Random Forest and decision  Tree the Pythonic way "
   ]
  },
  {
   "cell_type": "markdown",
   "metadata": {},
   "source": [
    "## Soumil Nitin Shah \n",
    "Bachelor in Electronic Engineering |\n",
    "Masters in Electrical Engineering | \n",
    "Master in Computer Engineering |\n",
    "\n",
    "* Website : https://soumilshah.herokuapp.com\n",
    "* Github: https://github.com/soumilshah1995\n",
    "* Linkedin: https://www.linkedin.com/in/shah-soumil/\n",
    "* Blog: https://soumilshah1995.blogspot.com/\n",
    "* Youtube : https://www.youtube.com/channel/UC_eOodxvwS_H7x2uLQa-svw?view_as=subscriber\n",
    "* Facebook Page : https://www.facebook.com/soumilshah1995/\n",
    "* Email : shahsoumil519@gmail.com\n",
    "* projects : https://soumilshah.herokuapp.com/project\n",
    "\n",
    "\n",
    "Hello! I’m Soumil Nitin Shah, a Software and Hardware Developer based in New York City. I have completed by Bachelor in Electronic Engineering and my Double master’s in Computer and Electrical Engineering. I Develop Python Based Cross Platform Desktop Application , Webpages , Software, REST API, Database and much more I have more than 2 Years of Experience in Python"
   ]
  },
  {
   "cell_type": "markdown",
   "metadata": {},
   "source": [
    "# Decision Tree"
   ]
  },
  {
   "cell_type": "code",
   "execution_count": 65,
   "metadata": {},
   "outputs": [],
   "source": [
    "import pandas as pd\n",
    "import seaborn as sns\n",
    "\n",
    "from sklearn.model_selection import train_test_split\n",
    "from sklearn.tree import DecisionTreeClassifier\n",
    "from sklearn.ensemble import RandomForestClassifier\n",
    "from sklearn.metrics import classification_report, confusion_matrix\n",
    "\n",
    "import scikitplot as skplt\n",
    "\n",
    "class NN():\n",
    "    \n",
    "    def __init__(self, max_iter=150):\n",
    "        self.max_iter=max_iter\n",
    "        self.X_Train, self.X_Test, self.Y_Train, self.Y_Test = self.preprocess\n",
    "        self.model = self.create_model\n",
    "    \n",
    "    @property\n",
    "    def preprocess(self):\n",
    "        \n",
    "        # Read the Dataset \n",
    "        df = pd.read_csv('loan_data.csv')\n",
    "        \n",
    "        # convert the column purpose which is Categorical into Numbers\n",
    "        final_data = pd.get_dummies(df, columns=[\"purpose\"], drop_first=True)\n",
    "        \n",
    "        X_Data = final_data[['int.rate', 'installment', 'log.annual.inc', 'dti',\n",
    "                        'fico', 'days.with.cr.line', 'revol.bal', 'revol.util',\n",
    "                        'inq.last.6mths', 'delinq.2yrs', 'pub.rec', 'not.fully.paid',\n",
    "                        'purpose_credit_card', 'purpose_debt_consolidation',\n",
    "                        'purpose_educational', 'purpose_home_improvement',\n",
    "                        'purpose_major_purchase', 'purpose_small_business']]\n",
    "        \n",
    "        Y_Data = final_data ['credit.policy']\n",
    "        \n",
    "        X_Train, X_Test, Y_Train, Y_Test = train_test_split(X_Data, Y_Data, test_size=0.4, random_state=101)\n",
    "        return X_Train, X_Test, Y_Train, Y_Test \n",
    "    \n",
    "    @property\n",
    "    def create_model(self):\n",
    "        \"\"\"\n",
    "        return : Model Object \n",
    "        \"\"\"\n",
    "        model = DecisionTreeClassifier()\n",
    "        return model\n",
    "        \n",
    "    \n",
    "    @property\n",
    "    def train(self):\n",
    "        \"\"\"\n",
    "        return None Train the Model\n",
    "        \"\"\"\n",
    "        self.model.fit(self.X_Train, self.Y_Train)\n",
    "        \n",
    "    @property   \n",
    "    def test(self):\n",
    "        \"\"\"\n",
    "        return pred [Array ]\n",
    "        return coef_ [array]\n",
    "        return intercept_ [array]\n",
    "        \"\"\"\n",
    "        pred = self.model.predict(self.X_Test)\n",
    "        return pred\n",
    "    \n",
    "    @property\n",
    "    def download_report(self):\n",
    "        \"\"\"\n",
    "        return confusion matrix \n",
    "        return classification report\n",
    "        return plots the confusion matrix \n",
    "        \"\"\"\n",
    "        pred = self.test\n",
    "        report = classification_report(self.Y_Test, pred)\n",
    "        matrix = confusion_matrix(self.Y_Test, pred)\n",
    "        \n",
    "        skplt.metrics.plot_confusion_matrix(self.Y_Test, \n",
    "                                            pred,\n",
    "                                           figsize=(6,6),\n",
    "                                           title=\"Confusion Matrix\")\n",
    "        return report, matrix\n",
    "    \n",
    "    @property\n",
    "    def plot(self):\n",
    "        pass"
   ]
  },
  {
   "cell_type": "code",
   "execution_count": 69,
   "metadata": {
    "scrolled": false
   },
   "outputs": [
    {
     "name": "stderr",
     "output_type": "stream",
     "text": [
      "/anaconda3/lib/python3.7/site-packages/sklearn/ensemble/forest.py:246: FutureWarning: The default value of n_estimators will change from 10 in version 0.20 to 100 in 0.22.\n",
      "  \"10 in version 0.20 to 100 in 0.22.\", FutureWarning)\n"
     ]
    },
    {
     "name": "stdout",
     "output_type": "stream",
     "text": [
      "              precision    recall  f1-score   support\n",
      "\n",
      "           0       0.97      0.93      0.95       724\n",
      "           1       0.98      0.99      0.99      3108\n",
      "\n",
      "   micro avg       0.98      0.98      0.98      3832\n",
      "   macro avg       0.98      0.96      0.97      3832\n",
      "weighted avg       0.98      0.98      0.98      3832\n",
      "\n",
      "[[ 674   50]\n",
      " [  18 3090]]\n"
     ]
    },
    {
     "data": {
      "image/png": "[encoded data removed]",
      "text/plain": [
       "<Figure size 432x432 with 2 Axes>"
      ]
     },
     "metadata": {
      "needs_background": "light"
     },
     "output_type": "display_data"
    }
   ],
   "source": [
    "neural = NN()\n",
    "neural.train\n",
    "pred = neural.test\n",
    "report, matrix = neural.download_report\n",
    "print(report)\n",
    "print(matrix)\n"
   ]
  },
  {
   "cell_type": "markdown",
   "metadata": {},
   "source": [
    "# Random Forest"
   ]
  },
  {
   "cell_type": "code",
   "execution_count": 67,
   "metadata": {},
   "outputs": [
    {
     "name": "stderr",
     "output_type": "stream",
     "text": [
      "/anaconda3/lib/python3.7/site-packages/sklearn/ensemble/forest.py:246: FutureWarning: The default value of n_estimators will change from 10 in version 0.20 to 100 in 0.22.\n",
      "  \"10 in version 0.20 to 100 in 0.22.\", FutureWarning)\n"
     ]
    },
    {
     "name": "stdout",
     "output_type": "stream",
     "text": [
      "              precision    recall  f1-score   support\n",
      "\n",
      "           0       0.97      0.94      0.96       724\n",
      "           1       0.99      0.99      0.99      3108\n",
      "\n",
      "   micro avg       0.98      0.98      0.98      3832\n",
      "   macro avg       0.98      0.97      0.97      3832\n",
      "weighted avg       0.98      0.98      0.98      3832\n",
      "\n",
      "[[ 683   41]\n",
      " [  19 3089]]\n"
     ]
    },
    {
     "data": {
      "image/png": "[encoded data removed]",
      "text/plain": [
       "<Figure size 432x432 with 2 Axes>"
      ]
     },
     "metadata": {
      "needs_background": "light"
     },
     "output_type": "display_data"
    }
   ],
   "source": [
    "import pandas as pd\n",
    "import seaborn as sns\n",
    "\n",
    "from sklearn.model_selection import train_test_split\n",
    "from sklearn.tree import DecisionTreeClassifier\n",
    "from sklearn.ensemble import RandomForestClassifier\n",
    "from sklearn.metrics import classification_report, confusion_matrix\n",
    "\n",
    "import scikitplot as skplt\n",
    "\n",
    "class NN():\n",
    "    \n",
    "    def __init__(self, max_iter=150):\n",
    "        self.max_iter=max_iter\n",
    "        self.X_Train, self.X_Test, self.Y_Train, self.Y_Test = self.preprocess\n",
    "        self.model = self.create_model\n",
    "    \n",
    "    @property\n",
    "    def preprocess(self):\n",
    "        # Read the Dataset \n",
    "        df = pd.read_csv('loan_data.csv')\n",
    "        # convert the column purpose which is Categorical into Numbers\n",
    "        final_data = pd.get_dummies(df, columns=[\"purpose\"], drop_first=True)\n",
    "        \n",
    "        X_Data = final_data[['int.rate', 'installment', 'log.annual.inc', 'dti',\n",
    "                        'fico', 'days.with.cr.line', 'revol.bal', 'revol.util',\n",
    "                        'inq.last.6mths', 'delinq.2yrs', 'pub.rec', 'not.fully.paid',\n",
    "                        'purpose_credit_card', 'purpose_debt_consolidation',\n",
    "                        'purpose_educational', 'purpose_home_improvement',\n",
    "                        'purpose_major_purchase', 'purpose_small_business']]\n",
    "        \n",
    "        Y_Data = final_data ['credit.policy']\n",
    "        \n",
    "        X_Train, X_Test, Y_Train, Y_Test = train_test_split(X_Data, Y_Data, test_size=0.4, random_state=101)\n",
    "        return X_Train, X_Test, Y_Train, Y_Test \n",
    "    \n",
    "    @property\n",
    "    def create_model(self):\n",
    "        \"\"\"\n",
    "        return : Model Object \n",
    "        \"\"\"\n",
    "        model = RandomForestClassifier()\n",
    "        return model\n",
    "        \n",
    "    \n",
    "    @property\n",
    "    def train(self):\n",
    "        \"\"\"\n",
    "        return None Train the Model\n",
    "        \"\"\"\n",
    "        self.model.fit(self.X_Train, self.Y_Train)\n",
    "        \n",
    "    @property   \n",
    "    def test(self):\n",
    "        \"\"\"\n",
    "        return pred [Array ]\n",
    "        return coef_ [array]\n",
    "        return intercept_ [array]\n",
    "        \"\"\"\n",
    "        pred = self.model.predict(self.X_Test)\n",
    "        return pred\n",
    "    \n",
    "    @property\n",
    "    def download_report(self):\n",
    "        \"\"\"\n",
    "        return confusion matrix \n",
    "        return classification report\n",
    "        return plots the confusion matrix \n",
    "        \"\"\"\n",
    "        pred = self.test\n",
    "        report = classification_report(self.Y_Test, pred)\n",
    "        matrix = confusion_matrix(self.Y_Test, pred)\n",
    "        \n",
    "        skplt.metrics.plot_confusion_matrix(self.Y_Test, \n",
    "                                            pred,\n",
    "                                           figsize=(6,6),\n",
    "                                           title=\"Confusion Matrix\")\n",
    "        return report, matrix\n",
    "    \n",
    "    @property\n",
    "    def plot(self):\n",
    "        pass\n",
    "\n",
    "neural = NN()\n",
    "neural.train\n",
    "pred = neural.test\n",
    "report, matrix = neural.download_report\n",
    "print(report)\n",
    "print(matrix)"
   ]
  }
 ],
 "metadata": {
  "kernelspec": {
   "display_name": "Python 3",
   "language": "python",
   "name": "python3"
  },
  "language_info": {
   "codemirror_mode": {
    "name": "ipython",
    "version": 3
   },
   "file_extension": ".py",
   "mimetype": "text/x-python",
   "name": "python",
   "nbconvert_exporter": "python",
   "pygments_lexer": "ipython3",
   "version": "3.7.6"
  }
 },
 "nbformat": 4,
 "nbformat_minor": 2
}
